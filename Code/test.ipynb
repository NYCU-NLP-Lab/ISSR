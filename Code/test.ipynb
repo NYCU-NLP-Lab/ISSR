{
 "cells": [
  {
   "cell_type": "code",
   "execution_count": 5,
   "id": "a6790b63-40f4-44a6-86fb-09ac7c868683",
   "metadata": {},
   "outputs": [
    {
     "data": {
      "application/vnd.jupyter.widget-view+json": {
       "model_id": "b5e3b0a1e0db4d21b5ec9d0f35d92322",
       "version_major": 2,
       "version_minor": 0
      },
      "text/plain": [
       "Dropdown(description='Preprocess Mode:', options=('None', 'CDGP', 'BERT'), value='None')"
      ]
     },
     "metadata": {},
     "output_type": "display_data"
    },
    {
     "data": {
      "application/vnd.jupyter.widget-view+json": {
       "model_id": "6e2e741856ef4c66a3ab7502930d401d",
       "version_major": 2,
       "version_minor": 0
      },
      "text/plain": [
       "Dropdown(description='Reason Mode:', options=('gpt', 'new_gpt'), value='gpt')"
      ]
     },
     "metadata": {},
     "output_type": "display_data"
    },
    {
     "data": {
      "application/vnd.jupyter.widget-view+json": {
       "model_id": "44614ea4d34647609215af5a9b82b512",
       "version_major": 2,
       "version_minor": 0
      },
      "text/plain": [
       "Checkbox(value=False, description='Enable Cheat:')"
      ]
     },
     "metadata": {},
     "output_type": "display_data"
    },
    {
     "data": {
      "application/vnd.jupyter.widget-view+json": {
       "model_id": "c2da3d377666430a929e8d4a845f32ba",
       "version_major": 2,
       "version_minor": 0
      },
      "text/plain": [
       "Checkbox(value=False, description='Zero-Shot Mode:')"
      ]
     },
     "metadata": {},
     "output_type": "display_data"
    },
    {
     "data": {
      "application/vnd.jupyter.widget-view+json": {
       "model_id": "738beac6f38a49c4865385f5956fb331",
       "version_major": 2,
       "version_minor": 0
      },
      "text/plain": [
       "Checkbox(value=False, description='Chain of Thought:')"
      ]
     },
     "metadata": {},
     "output_type": "display_data"
    },
    {
     "data": {
      "application/vnd.jupyter.widget-view+json": {
       "model_id": "926652ff58c944ef8812d984b968661f",
       "version_major": 2,
       "version_minor": 0
      },
      "text/plain": [
       "IntSlider(value=50, description='Candidate Set Size:', min=10, step=10)"
      ]
     },
     "metadata": {},
     "output_type": "display_data"
    },
    {
     "data": {
      "application/vnd.jupyter.widget-view+json": {
       "model_id": "8ecd6d45889c4dd4a51fbe19b8d3e124",
       "version_major": 2,
       "version_minor": 0
      },
      "text/plain": [
       "IntSlider(value=30, description='Distractors per Round:', max=50, min=10, step=5)"
      ]
     },
     "metadata": {},
     "output_type": "display_data"
    },
    {
     "data": {
      "application/vnd.jupyter.widget-view+json": {
       "model_id": "75863769f8d3401b9c88870ae489ddad",
       "version_major": 2,
       "version_minor": 0
      },
      "text/plain": [
       "IntSlider(value=30, description='Generate Count:', min=10, step=10)"
      ]
     },
     "metadata": {},
     "output_type": "display_data"
    },
    {
     "data": {
      "application/vnd.jupyter.widget-view+json": {
       "model_id": "e2603674f0904c7ab54444e62991c6aa",
       "version_major": 2,
       "version_minor": 0
      },
      "text/plain": [
       "Checkbox(value=False, description='Self Answer:')"
      ]
     },
     "metadata": {},
     "output_type": "display_data"
    },
    {
     "data": {
      "application/vnd.jupyter.widget-view+json": {
       "model_id": "6f99a55a57344c72a17ae33a9da66faf",
       "version_major": 2,
       "version_minor": 0
      },
      "text/plain": [
       "Checkbox(value=False, description='Error Report:')"
      ]
     },
     "metadata": {},
     "output_type": "display_data"
    },
    {
     "data": {
      "application/vnd.jupyter.widget-view+json": {
       "model_id": "d5687480f1dc4c36a3d512fb86e13b79",
       "version_major": 2,
       "version_minor": 0
      },
      "text/plain": [
       "Dropdown(description='LLM Model:', options=('gpt', 'vicuna-1.5', 'zephyr', 'vicuna-1.5-original', 'gemma2', 'l…"
      ]
     },
     "metadata": {},
     "output_type": "display_data"
    },
    {
     "data": {
      "application/vnd.jupyter.widget-view+json": {
       "model_id": "0fb3c459ea40412bab9f644149ce6ea1",
       "version_major": 2,
       "version_minor": 0
      },
      "text/plain": [
       "Dropdown(description='Device:', options=('cuda', 'cpu'), value='cuda')"
      ]
     },
     "metadata": {},
     "output_type": "display_data"
    },
    {
     "name": "stdout",
     "output_type": "stream",
     "text": [
      "{'preprocess_function': {'mode': 'None', 'reason': 'gpt', 'cheat': False}, 'distractor_generation_function': {'zero-shot': False, 'chain_of_thought': False, 'candidate_set_size': 50, 'pick_distractors_per_round': 30, 'generate_count': 30}, 'post_processing_function': {'self-answer': False, 'error-report': False, 'generate_count': 30}, 'use_cache_result': True, 'LLM': 'gpt', 'device': 'cuda', 'ref_vocabulary_path': '../Dataset/高中英文參考詞彙表v2.xlsx', 'dataset_path': '../Dataset/processed_gsat_data.json', 'record_bad_distractor': True}\n"
     ]
    },
    {
     "name": "stderr",
     "output_type": "stream",
     "text": [
      "[nltk_data] Downloading package punkt to /home/ycliu/nltk_data...\n",
      "[nltk_data]   Package punkt is already up-to-date!\n",
      "[nltk_data] Downloading package averaged_perceptron_tagger to\n",
      "[nltk_data]     /home/ycliu/nltk_data...\n",
      "[nltk_data]   Package averaged_perceptron_tagger is already up-to-\n",
      "[nltk_data]       date!\n",
      "[nltk_data] Downloading package wordnet to /home/ycliu/nltk_data...\n",
      "[nltk_data]   Package wordnet is already up-to-date!\n",
      "[nltk_data] Downloading package omw-1.4 to /home/ycliu/nltk_data...\n",
      "[nltk_data]   Package omw-1.4 is already up-to-date!\n"
     ]
    }
   ],
   "source": [
    "import ipywidgets as widgets\n",
    "from IPython.display import display\n",
    "import json\n",
    "import nltk\n",
    "from preprocess import *\n",
    "from distractor_generation import *\n",
    "from utils import *\n",
    "\n",
    "# Define widgets for each configurable parameter\n",
    "preprocess_mode = widgets.Dropdown(\n",
    "    options=['None', 'CDGP', 'BERT'],\n",
    "    value='None',\n",
    "    description='Preprocess Mode:',\n",
    ")\n",
    "\n",
    "reason = widgets.Dropdown(\n",
    "    options=['gpt', 'new_gpt'],\n",
    "    value='gpt',\n",
    "    description='Reason Mode:'\n",
    ")\n",
    "\n",
    "cheat = widgets.Checkbox(\n",
    "    value=False,\n",
    "    description='Enable Cheat:'\n",
    ")\n",
    "\n",
    "zero_shot = widgets.Checkbox(\n",
    "    value=False,\n",
    "    description='Zero-Shot Mode:'\n",
    ")\n",
    "\n",
    "chain_of_thought = widgets.Checkbox(\n",
    "    value=False,\n",
    "    description='Chain of Thought:'\n",
    ")\n",
    "\n",
    "candidate_set_size = widgets.IntSlider(\n",
    "    value=50,\n",
    "    min=10,\n",
    "    max=100,\n",
    "    step=10,\n",
    "    description='Candidate Set Size:'\n",
    ")\n",
    "\n",
    "pick_distractors_per_round = widgets.IntSlider(\n",
    "    value=30,\n",
    "    min=10,\n",
    "    max=50,\n",
    "    step=5,\n",
    "    description='Distractors per Round:'\n",
    ")\n",
    "\n",
    "generate_count = widgets.IntSlider(\n",
    "    value=30,\n",
    "    min=10,\n",
    "    max=100,\n",
    "    step=10,\n",
    "    description='Generate Count:'\n",
    ")\n",
    "\n",
    "self_answer = widgets.Checkbox(\n",
    "    value=False,\n",
    "    description='Self Answer:'\n",
    ")\n",
    "\n",
    "error_report = widgets.Checkbox(\n",
    "    value=False,\n",
    "    description='Error Report:'\n",
    ")\n",
    "\n",
    "LLM = widgets.Dropdown(\n",
    "    options=['gpt', 'vicuna-1.5', 'zephyr', 'vicuna-1.5-original', 'gemma2', 'llama3'],\n",
    "    value='gpt',\n",
    "    description='LLM Model:'\n",
    ")\n",
    "\n",
    "device = widgets.Dropdown(\n",
    "    options=['cuda', 'cpu'],\n",
    "    value='cuda',\n",
    "    description='Device:'\n",
    ")\n",
    "\n",
    "# Display widgets\n",
    "display(preprocess_mode, reason, cheat, zero_shot, chain_of_thought, candidate_set_size,\n",
    "        pick_distractors_per_round, generate_count, self_answer, error_report, LLM, device)\n",
    "\n",
    "# Construct the config dictionary from widget values\n",
    "def get_config():\n",
    "    config = {\n",
    "        \"preprocess_function\": {\n",
    "            \"mode\": preprocess_mode.value,\n",
    "            \"reason\": reason.value,\n",
    "            \"cheat\": cheat.value\n",
    "        },\n",
    "        \"distractor_generation_function\": {\n",
    "            \"zero-shot\": zero_shot.value,\n",
    "            \"chain_of_thought\": chain_of_thought.value,\n",
    "            \"candidate_set_size\": candidate_set_size.value,\n",
    "            \"pick_distractors_per_round\": pick_distractors_per_round.value,\n",
    "            \"generate_count\": generate_count.value,\n",
    "        },\n",
    "        \"post_processing_function\": {\n",
    "            \"self-answer\": self_answer.value,\n",
    "            \"error-report\": error_report.value,\n",
    "            \"generate_count\": generate_count.value\n",
    "        },\n",
    "        \"use_cache_result\": True,\n",
    "        \"LLM\": LLM.value,\n",
    "        \"device\": device.value,\n",
    "        \"ref_vocabulary_path\": \"../Dataset/高中英文參考詞彙表v2.xlsx\",\n",
    "        \"dataset_path\": \"../Dataset/processed_gsat_data.json\",\n",
    "        \"record_bad_distractor\": True\n",
    "    }\n",
    "    return config\n",
    "\n",
    "# Example usage: run model with selected configuration\n",
    "if __name__ == \"__main__\":\n",
    "    config = get_config()\n",
    "    print(config)\n",
    "    # Select preprocessing function based on config\n",
    "    if config['preprocess_function']['mode'] == \"BERT\" or config['preprocess_function']['mode'] == \"CDGP\":\n",
    "        preprocess_function = pool_generation\n",
    "    elif config['preprocess_function']['mode'] == \"reason\":\n",
    "        preprocess_function = reason_generation\n",
    "    elif config['preprocess_function']['mode'] == \"None\":\n",
    "        preprocess_function = none\n",
    "    else:\n",
    "        preprocess_function = pool_generation\n",
    "\n",
    "    nltk.download('punkt')\n",
    "    nltk.download('averaged_perceptron_tagger')\n",
    "    nltk.download('wordnet')\n",
    "    nltk.download('omw-1.4')\n",
    "\n",
    "    # Initialize and run the model\n",
    "    #dis_model = DistractorGenerationModel(config, preprocess_function, few_shot, self_answer)\n",
    "    #result = dis_model.run_framework()\n"
   ]
  },
  {
   "cell_type": "code",
   "execution_count": null,
   "id": "8c3f335c-8735-4b6e-a8ad-35325134ffd6",
   "metadata": {},
   "outputs": [],
   "source": []
  }
 ],
 "metadata": {
  "kernelspec": {
   "display_name": "FF",
   "language": "python",
   "name": "ff"
  },
  "language_info": {
   "codemirror_mode": {
    "name": "ipython",
    "version": 3
   },
   "file_extension": ".py",
   "mimetype": "text/x-python",
   "name": "python",
   "nbconvert_exporter": "python",
   "pygments_lexer": "ipython3",
   "version": "3.9.18"
  }
 },
 "nbformat": 4,
 "nbformat_minor": 5
}
