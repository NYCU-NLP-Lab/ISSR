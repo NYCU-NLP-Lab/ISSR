{
 "cells": [
  {
   "cell_type": "code",
   "execution_count": 6,
   "metadata": {},
   "outputs": [],
   "source": [
    "\"\"\"\n",
    "這個程式將題目依照答對率分為3組，用於後續人工分析\n",
    "discussion 6-6\n",
    "\"\"\"\n",
    "\n",
    "\n",
    "from utils import init_data, lemmatization\n",
    "import spacy\n",
    "\n",
    "data, ref_word = init_data()\n",
    "data = data[2:]"
   ]
  },
  {
   "cell_type": "code",
   "execution_count": 7,
   "metadata": {},
   "outputs": [],
   "source": [
    "score = [x['t_option_correct'] for x in data]\n",
    "data = sorted(data, key=lambda x: x['t_option_correct'])"
   ]
  },
  {
   "cell_type": "code",
   "execution_count": 8,
   "metadata": {},
   "outputs": [
    {
     "name": "stdout",
     "output_type": "stream",
     "text": [
      "{'questions': 'The baby panda Yuan Zai at the Taipei Zoo was separated from her mother because of a minor injury that occurred during her birth. She was _______ by zookeepers for a while.', 'year': 103, 'quest_index': 15, 'answer': 'C', 'correct_option_ch': '照料', 'correct_option_en': 'tended', 't_option_correct': 23, 'h_option_correct': 24, 'l_option_correct': 27, 'P': 23, 'Ph': 24, 'Pl': 27, 'Pa': 29, 'Pb': 17, 'Pc': 17, 'Pd': 25, 'Pe': 28, 'D': -3, 'D1': 12, 'D2': 0, 'D3': -8, 'D4': -3, 'options_en': ['departed', 'jailed', 'tended', 'captured'], 'options_ch': ['离开', '监禁', '照料', '捕获'], 't_options_rate': [40, 18, 23, 18], 'h_options_rate': [51, 15, 24, 10], 'l_options_rate': [28, 20, 27, 24], 'origin_questions': 'The baby panda Yuan Zai at the Taipei Zoo was separated from her mother because of a minor injury that occurred during her birth. She was tended by zookeepers for a while.', 'distractors': ['departed', 'jailed', 'captured']}\n"
     ]
    }
   ],
   "source": [
    "print(data[0])"
   ]
  },
  {
   "cell_type": "code",
   "execution_count": 9,
   "metadata": {},
   "outputs": [
    {
     "name": "stdout",
     "output_type": "stream",
     "text": [
      "54\n",
      "65\n",
      "87\n"
     ]
    }
   ],
   "source": [
    "import numpy as np\n",
    "import matplotlib.pyplot as plt\n",
    "\n",
    "n = len(data)\n",
    "interval_size = n // 3\n",
    "\n",
    "group1 = data[:interval_size]\n",
    "group2 = data[interval_size:2*interval_size]\n",
    "group3 = data[2*interval_size:]\n",
    "\n",
    "print(group1[-1][\"t_option_correct\"])\n",
    "print(group2[-1][\"t_option_correct\"])\n",
    "print(group3[-1][\"t_option_correct\"])"
   ]
  },
  {
   "cell_type": "code",
   "execution_count": 10,
   "metadata": {},
   "outputs": [],
   "source": [
    "import json\n",
    "\n",
    "with open(f\"./dataset/group1_question_set\", \"w\") as f:\n",
    "    json.dump(group1, f, indent = 2)\n",
    "with open(f\"./dataset/group2_question_set\", \"w\") as f:\n",
    "    json.dump(group2, f, indent = 2)\n",
    "with open(f\"./dataset/group3_question_set\", \"w\") as f:\n",
    "    json.dump(group3, f, indent = 2)"
   ]
  },
  {
   "cell_type": "code",
   "execution_count": 11,
   "metadata": {},
   "outputs": [
    {
     "name": "stdout",
     "output_type": "stream",
     "text": [
      "{'questions': 'The baby panda Yuan Zai at the Taipei Zoo was separated from her mother because of a minor injury that occurred during her birth. She was _______ by zookeepers for a while.', 'year': 103, 'quest_index': 15, 'answer': 'C', 'correct_option_ch': '照料', 'correct_option_en': 'tended', 't_option_correct': 23, 'h_option_correct': 24, 'l_option_correct': 27, 'P': 23, 'Ph': 24, 'Pl': 27, 'Pa': 29, 'Pb': 17, 'Pc': 17, 'Pd': 25, 'Pe': 28, 'D': -3, 'D1': 12, 'D2': 0, 'D3': -8, 'D4': -3, 'options_en': ['departed', 'jailed', 'tended', 'captured'], 'options_ch': ['离开', '监禁', '照料', '捕获'], 't_options_rate': [40, 18, 23, 18], 'h_options_rate': [51, 15, 24, 10], 'l_options_rate': [28, 20, 27, 24], 'origin_questions': 'The baby panda Yuan Zai at the Taipei Zoo was separated from her mother because of a minor injury that occurred during her birth. She was tended by zookeepers for a while.', 'distractors': ['departed', 'jailed', 'captured'], 'generated': ['educated', 'cured', 'controlled', 'adopted', 'injured', 'admired', 'frightened', 'replaced', 'attended', 'examined', 'shocked', 'rescued', 'punished', 'introduced', 'beaten', 'promoted', 'rewarded', 'warned', 'supported', 'blamed', 'removed', 'protected', 'washed', 'forced', 'surrounded', 'accepted', 'received', 'abandoned', 'ignored', 'buried']}\n"
     ]
    }
   ],
   "source": [
    "import json\n",
    "'''\n",
    "將ISSR生成的結果取代原本的distractors出成新題目\n",
    "'''\n",
    "# sort the generated distractor based on correct rate in clumsy way\n",
    "\n",
    "with open(\"./dataset/[BEST]ISSR.json\", \"r\") as f:\n",
    "    gen_data = json.load(f)\n",
    "\n",
    "\n",
    "for i in gen_data:\n",
    "    stem = i['distractors']\n",
    "    for j in range(len(data)):\n",
    "        if stem == data[j]['distractors']:\n",
    "            data[j]['generated'] = i['generated']\n",
    "\n",
    "print(data[0])\n",
    "for i in data:\n",
    "    assert i['generated'] is not None"
   ]
  },
  {
   "cell_type": "code",
   "execution_count": 12,
   "metadata": {},
   "outputs": [
    {
     "name": "stdout",
     "output_type": "stream",
     "text": [
      "54\n",
      "65\n",
      "87\n"
     ]
    }
   ],
   "source": [
    "group1 = data[:interval_size]\n",
    "group2 = data[interval_size:2*interval_size]\n",
    "group3 = data[2*interval_size:]\n",
    "\n",
    "print(group1[-1][\"t_option_correct\"])\n",
    "print(group2[-1][\"t_option_correct\"])\n",
    "print(group3[-1][\"t_option_correct\"])\n",
    "\n",
    "\n",
    "import json\n",
    "\n",
    "with open(f\"group1_question_set\", \"w\") as f:\n",
    "    json.dump(group1, f, indent = 2)\n",
    "with open(f\"group2_question_set\", \"w\") as f:\n",
    "    json.dump(group2, f, indent = 2)\n",
    "with open(f\"group3_question_set\", \"w\") as f:\n",
    "    json.dump(group3, f, indent = 2)"
   ]
  },
  {
   "cell_type": "code",
   "execution_count": null,
   "metadata": {},
   "outputs": [],
   "source": [
    "raise\n",
    "\n",
    "NOTE: 在每組中，我人工隨機挑選十題作為問卷題目"
   ]
  }
 ],
 "metadata": {
  "kernelspec": {
   "display_name": "FF",
   "language": "python",
   "name": "ff"
  },
  "language_info": {
   "codemirror_mode": {
    "name": "ipython",
    "version": 3
   },
   "file_extension": ".py",
   "mimetype": "text/x-python",
   "name": "python",
   "nbconvert_exporter": "python",
   "pygments_lexer": "ipython3",
   "version": "3.9.18"
  }
 },
 "nbformat": 4,
 "nbformat_minor": 4
}
